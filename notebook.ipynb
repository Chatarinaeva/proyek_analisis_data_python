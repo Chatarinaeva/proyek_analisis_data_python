{
  "cells": [
    {
      "cell_type": "markdown",
      "metadata": {
        "id": "H9wADwK78DCz"
      },
      "source": [
        "# Proyek Analisis Data: Bike Sharing\n",
        "- **Nama:** Chatarina Evangelista Sitorus\n",
        "- **Email:** chatarinaevas304@gmail.com\n",
        "- **ID Dicoding:** dicodingchatzz"
      ]
    },
    {
      "cell_type": "markdown",
      "metadata": {
        "id": "eE0raob58DC0"
      },
      "source": [
        "## Menentukan Pertanyaan Bisnis"
      ]
    },
    {
      "cell_type": "markdown",
      "metadata": {
        "id": "GmQeQ5YF8DC0"
      },
      "source": [
        "- Apakah ada perbedaan jumlah penyewaan sepeda pada hari kerja dan akhir pekan?\n",
        "- Bagaimana perbedaan jumlah penyewaan sepeda berdasarkan musim?\n",
        "- Bagaimana pola penyewaan sepeda antara pengguna kasual dan pengguna terdaftar berdasarkan hari kerja dan akhir pekan?"
      ]
    },
    {
      "cell_type": "markdown",
      "metadata": {
        "id": "H-z4QGlO8DC1"
      },
      "source": [
        "## Import Semua Packages/Library yang Digunakan"
      ]
    },
    {
      "cell_type": "code",
      "execution_count": 112,
      "metadata": {
        "id": "FVYwaObI8DC1"
      },
      "outputs": [],
      "source": [
        "import numpy as np\n",
        "import pandas as pd\n",
        "import matplotlib.pyplot as plt\n",
        "import seaborn as sns\n"
      ]
    },
    {
      "cell_type": "markdown",
      "metadata": {
        "id": "h_Sh51Xy8DC1"
      },
      "source": [
        "## Data Wrangling"
      ]
    },
    {
      "cell_type": "markdown",
      "metadata": {
        "id": "sXU2GBYu8DC1"
      },
      "source": [
        "### Gathering Data"
      ]
    },
    {
      "cell_type": "code",
      "execution_count": 118,
      "metadata": {
        "id": "zjCBk1BI8DC1"
      },
      "outputs": [
        {
          "name": "stdout",
          "output_type": "stream",
          "text": [
            "Kolom pada day.csv: Index(['instant', 'dteday', 'season', 'yr', 'mnth', 'holiday', 'weekday',\n",
            "       'workingday', 'weathersit', 'temp', 'atemp', 'hum', 'windspeed',\n",
            "       'casual', 'registered', 'cnt'],\n",
            "      dtype='object')\n",
            "Kolom pada hour.csv: Index(['instant', 'dteday', 'season', 'yr', 'mnth', 'hr', 'holiday', 'weekday',\n",
            "       'workingday', 'weathersit', 'temp', 'atemp', 'hum', 'windspeed',\n",
            "       'casual', 'registered', 'cnt'],\n",
            "      dtype='object')\n",
            "Jumlah baris day.csv: 731\n",
            "Jumlah baris hour.csv: 17379\n"
          ]
        }
      ],
      "source": [
        "day_df = pd.read_csv(\"data/day.csv\")\n",
        "day_df.head()\n",
        "hour_df = pd.read_csv(\"data/hour.csv\")\n",
        "hour_df.head()\n",
        "\n",
        "print(\"Kolom pada day.csv:\", day_df.columns)\n",
        "print(\"Kolom pada hour.csv:\", hour_df.columns)\n",
        "print(\"Jumlah baris day.csv:\", len(day_df))\n",
        "print(\"Jumlah baris hour.csv:\", len(hour_df))\n",
        "\n",
        "#readme = open(\"data/Readme.txt\", \"r\").read()\n",
        "\n"
      ]
    },
    {
      "cell_type": "markdown",
      "metadata": {
        "id": "MMi6xGaDkbCi"
      },
      "source": [
        "**Insight:**\n",
        "- Struktur Dataset: \n",
        "Dataset Bike Sharing terdiri dari dua file, yaitu day.csv dan hour.csv. day.csv memiliki 731 baris, yang merepresentasikan data penyewaan sepeda harian, sedangkan hour.csv memiliki 17.379 baris, yang mencatat penyewaan sepeda dalam skala jam.\n",
        "- Kesamaan dan Perbedaan Kolom:\n",
        "Kedua dataset memiliki kolom yang hampir sama, seperti season, yr, mnth, holiday, weekday, workingday, weathersit, temp, atemp, hum, windspeed, casual, registered, dan cnt. Namun, hour.csv memiliki tambahan kolom hr (jam), yang tidak ada di day.csv, karena mencatat data per jam.\n",
        "- Jumlah Data:\n",
        "Jumlah data pada day.csv sesuai dengan jumlah hari dalam dua tahun (365 hari di tahun pertama dan 366 hari di tahun kedua), sementara hour.csv memiliki jumlah baris yang lebih besar karena mencatat data per jam selama periode yang sama.\n",
        "- Kesesuaian Data:\n",
        "Kedua dataset dapat digunakan secara terpisah atau digabungkan untuk analisis yang lebih mendalam. day.csv cocok untuk analisis tren harian, sedangkan hour.csv memberikan detail lebih rinci mengenai pola penyewaan berdasarkan jam."
      ]
    },
    {
      "cell_type": "markdown",
      "metadata": {
        "id": "FHSiqaZp8DC1"
      },
      "source": [
        "### Assessing Data"
      ]
    },
    {
      "cell_type": "code",
      "execution_count": null,
      "metadata": {
        "id": "ax-3tEjc9Cj1"
      },
      "outputs": [
        {
          "name": "stdout",
          "output_type": "stream",
          "text": [
            "\n",
            "=== INFO DATA DAY ===\n",
            "<class 'pandas.core.frame.DataFrame'>\n",
            "RangeIndex: 731 entries, 0 to 730\n",
            "Data columns (total 16 columns):\n",
            " #   Column      Non-Null Count  Dtype         \n",
            "---  ------      --------------  -----         \n",
            " 0   instant     731 non-null    int64         \n",
            " 1   dteday      731 non-null    datetime64[ns]\n",
            " 2   season      731 non-null    category      \n",
            " 3   yr          731 non-null    category      \n",
            " 4   mnth        731 non-null    category      \n",
            " 5   holiday     731 non-null    int64         \n",
            " 6   weekday     731 non-null    category      \n",
            " 7   workingday  731 non-null    int64         \n",
            " 8   weathersit  731 non-null    category      \n",
            " 9   temp        731 non-null    float64       \n",
            " 10  atemp       731 non-null    float64       \n",
            " 11  hum         731 non-null    float64       \n",
            " 12  windspeed   731 non-null    float64       \n",
            " 13  casual      731 non-null    int64         \n",
            " 14  registered  731 non-null    int64         \n",
            " 15  cnt         731 non-null    int64         \n",
            "dtypes: category(5), datetime64[ns](1), float64(4), int64(6)\n",
            "memory usage: 67.8 KB\n",
            "\n",
            "Jumlah Missing Values:\n",
            "instant       0\n",
            "dteday        0\n",
            "season        0\n",
            "yr            0\n",
            "mnth          0\n",
            "holiday       0\n",
            "weekday       0\n",
            "workingday    0\n",
            "weathersit    0\n",
            "temp          0\n",
            "atemp         0\n",
            "hum           0\n",
            "windspeed     0\n",
            "casual        0\n",
            "registered    0\n",
            "cnt           0\n",
            "dtype: int64\n",
            "Jumlah Duplikasi:  0\n"
          ]
        },
        {
          "data": {
            "text/html": [
              "<div>\n",
              "<style scoped>\n",
              "    .dataframe tbody tr th:only-of-type {\n",
              "        vertical-align: middle;\n",
              "    }\n",
              "\n",
              "    .dataframe tbody tr th {\n",
              "        vertical-align: top;\n",
              "    }\n",
              "\n",
              "    .dataframe thead th {\n",
              "        text-align: right;\n",
              "    }\n",
              "</style>\n",
              "<table border=\"1\" class=\"dataframe\">\n",
              "  <thead>\n",
              "    <tr style=\"text-align: right;\">\n",
              "      <th></th>\n",
              "      <th>instant</th>\n",
              "      <th>dteday</th>\n",
              "      <th>holiday</th>\n",
              "      <th>workingday</th>\n",
              "      <th>temp</th>\n",
              "      <th>atemp</th>\n",
              "      <th>hum</th>\n",
              "      <th>windspeed</th>\n",
              "      <th>casual</th>\n",
              "      <th>registered</th>\n",
              "      <th>cnt</th>\n",
              "    </tr>\n",
              "  </thead>\n",
              "  <tbody>\n",
              "    <tr>\n",
              "      <th>count</th>\n",
              "      <td>731.000000</td>\n",
              "      <td>731</td>\n",
              "      <td>731.000000</td>\n",
              "      <td>731.000000</td>\n",
              "      <td>731.000000</td>\n",
              "      <td>731.000000</td>\n",
              "      <td>731.000000</td>\n",
              "      <td>731.000000</td>\n",
              "      <td>731.000000</td>\n",
              "      <td>731.000000</td>\n",
              "      <td>731.000000</td>\n",
              "    </tr>\n",
              "    <tr>\n",
              "      <th>mean</th>\n",
              "      <td>366.000000</td>\n",
              "      <td>2012-01-01 00:00:00</td>\n",
              "      <td>0.028728</td>\n",
              "      <td>0.683995</td>\n",
              "      <td>0.495385</td>\n",
              "      <td>0.474354</td>\n",
              "      <td>0.627894</td>\n",
              "      <td>0.190486</td>\n",
              "      <td>848.176471</td>\n",
              "      <td>3656.172367</td>\n",
              "      <td>4504.348837</td>\n",
              "    </tr>\n",
              "    <tr>\n",
              "      <th>min</th>\n",
              "      <td>1.000000</td>\n",
              "      <td>2011-01-01 00:00:00</td>\n",
              "      <td>0.000000</td>\n",
              "      <td>0.000000</td>\n",
              "      <td>0.059130</td>\n",
              "      <td>0.079070</td>\n",
              "      <td>0.000000</td>\n",
              "      <td>0.022392</td>\n",
              "      <td>2.000000</td>\n",
              "      <td>20.000000</td>\n",
              "      <td>22.000000</td>\n",
              "    </tr>\n",
              "    <tr>\n",
              "      <th>25%</th>\n",
              "      <td>183.500000</td>\n",
              "      <td>2011-07-02 12:00:00</td>\n",
              "      <td>0.000000</td>\n",
              "      <td>0.000000</td>\n",
              "      <td>0.337083</td>\n",
              "      <td>0.337842</td>\n",
              "      <td>0.520000</td>\n",
              "      <td>0.134950</td>\n",
              "      <td>315.500000</td>\n",
              "      <td>2497.000000</td>\n",
              "      <td>3152.000000</td>\n",
              "    </tr>\n",
              "    <tr>\n",
              "      <th>50%</th>\n",
              "      <td>366.000000</td>\n",
              "      <td>2012-01-01 00:00:00</td>\n",
              "      <td>0.000000</td>\n",
              "      <td>1.000000</td>\n",
              "      <td>0.498333</td>\n",
              "      <td>0.486733</td>\n",
              "      <td>0.626667</td>\n",
              "      <td>0.180975</td>\n",
              "      <td>713.000000</td>\n",
              "      <td>3662.000000</td>\n",
              "      <td>4548.000000</td>\n",
              "    </tr>\n",
              "    <tr>\n",
              "      <th>75%</th>\n",
              "      <td>548.500000</td>\n",
              "      <td>2012-07-01 12:00:00</td>\n",
              "      <td>0.000000</td>\n",
              "      <td>1.000000</td>\n",
              "      <td>0.655417</td>\n",
              "      <td>0.608602</td>\n",
              "      <td>0.730209</td>\n",
              "      <td>0.233214</td>\n",
              "      <td>1096.000000</td>\n",
              "      <td>4776.500000</td>\n",
              "      <td>5956.000000</td>\n",
              "    </tr>\n",
              "    <tr>\n",
              "      <th>max</th>\n",
              "      <td>731.000000</td>\n",
              "      <td>2012-12-31 00:00:00</td>\n",
              "      <td>1.000000</td>\n",
              "      <td>1.000000</td>\n",
              "      <td>0.861667</td>\n",
              "      <td>0.840896</td>\n",
              "      <td>0.972500</td>\n",
              "      <td>0.507463</td>\n",
              "      <td>3410.000000</td>\n",
              "      <td>6946.000000</td>\n",
              "      <td>8714.000000</td>\n",
              "    </tr>\n",
              "    <tr>\n",
              "      <th>std</th>\n",
              "      <td>211.165812</td>\n",
              "      <td>NaN</td>\n",
              "      <td>0.167155</td>\n",
              "      <td>0.465233</td>\n",
              "      <td>0.183051</td>\n",
              "      <td>0.162961</td>\n",
              "      <td>0.142429</td>\n",
              "      <td>0.077498</td>\n",
              "      <td>686.622488</td>\n",
              "      <td>1560.256377</td>\n",
              "      <td>1937.211452</td>\n",
              "    </tr>\n",
              "  </tbody>\n",
              "</table>\n",
              "</div>"
            ],
            "text/plain": [
              "          instant               dteday     holiday  workingday        temp  \\\n",
              "count  731.000000                  731  731.000000  731.000000  731.000000   \n",
              "mean   366.000000  2012-01-01 00:00:00    0.028728    0.683995    0.495385   \n",
              "min      1.000000  2011-01-01 00:00:00    0.000000    0.000000    0.059130   \n",
              "25%    183.500000  2011-07-02 12:00:00    0.000000    0.000000    0.337083   \n",
              "50%    366.000000  2012-01-01 00:00:00    0.000000    1.000000    0.498333   \n",
              "75%    548.500000  2012-07-01 12:00:00    0.000000    1.000000    0.655417   \n",
              "max    731.000000  2012-12-31 00:00:00    1.000000    1.000000    0.861667   \n",
              "std    211.165812                  NaN    0.167155    0.465233    0.183051   \n",
              "\n",
              "            atemp         hum   windspeed       casual   registered  \\\n",
              "count  731.000000  731.000000  731.000000   731.000000   731.000000   \n",
              "mean     0.474354    0.627894    0.190486   848.176471  3656.172367   \n",
              "min      0.079070    0.000000    0.022392     2.000000    20.000000   \n",
              "25%      0.337842    0.520000    0.134950   315.500000  2497.000000   \n",
              "50%      0.486733    0.626667    0.180975   713.000000  3662.000000   \n",
              "75%      0.608602    0.730209    0.233214  1096.000000  4776.500000   \n",
              "max      0.840896    0.972500    0.507463  3410.000000  6946.000000   \n",
              "std      0.162961    0.142429    0.077498   686.622488  1560.256377   \n",
              "\n",
              "               cnt  \n",
              "count   731.000000  \n",
              "mean   4504.348837  \n",
              "min      22.000000  \n",
              "25%    3152.000000  \n",
              "50%    4548.000000  \n",
              "75%    5956.000000  \n",
              "max    8714.000000  \n",
              "std    1937.211452  "
            ]
          },
          "metadata": {},
          "output_type": "display_data"
        },
        {
          "name": "stdout",
          "output_type": "stream",
          "text": [
            "Kategori weathersit yang ada: [2, 1, 3]\n",
            "Categories (4, int64): [1, 2, 3, 4]\n",
            "weathersit\n",
            "1    463\n",
            "2    247\n",
            "3     21\n",
            "4      0\n",
            "Name: count, dtype: int64\n",
            "\n",
            "=== INFO DATA HOUR ===\n",
            "<class 'pandas.core.frame.DataFrame'>\n",
            "RangeIndex: 17379 entries, 0 to 17378\n",
            "Data columns (total 17 columns):\n",
            " #   Column      Non-Null Count  Dtype         \n",
            "---  ------      --------------  -----         \n",
            " 0   instant     17379 non-null  int64         \n",
            " 1   dteday      17379 non-null  datetime64[ns]\n",
            " 2   season      17379 non-null  category      \n",
            " 3   yr          17379 non-null  category      \n",
            " 4   mnth        17379 non-null  category      \n",
            " 5   hr          17379 non-null  int64         \n",
            " 6   holiday     17379 non-null  category      \n",
            " 7   weekday     17379 non-null  category      \n",
            " 8   workingday  17379 non-null  category      \n",
            " 9   weathersit  17379 non-null  category      \n",
            " 10  temp        17379 non-null  float64       \n",
            " 11  atemp       17379 non-null  float64       \n",
            " 12  hum         17379 non-null  float64       \n",
            " 13  windspeed   17379 non-null  float64       \n",
            " 14  casual      17379 non-null  int64         \n",
            " 15  registered  17379 non-null  int64         \n",
            " 16  cnt         17379 non-null  int64         \n",
            "dtypes: category(7), datetime64[ns](1), float64(4), int64(5)\n",
            "memory usage: 1.4 MB\n",
            "\n",
            "Jumlah Missing Values:\n",
            " instant       0\n",
            "dteday        0\n",
            "season        0\n",
            "yr            0\n",
            "mnth          0\n",
            "hr            0\n",
            "holiday       0\n",
            "weekday       0\n",
            "workingday    0\n",
            "weathersit    0\n",
            "temp          0\n",
            "atemp         0\n",
            "hum           0\n",
            "windspeed     0\n",
            "casual        0\n",
            "registered    0\n",
            "cnt           0\n",
            "dtype: int64\n",
            "Jumlah Duplikasi: 0\n"
          ]
        },
        {
          "data": {
            "text/html": [
              "<div>\n",
              "<style scoped>\n",
              "    .dataframe tbody tr th:only-of-type {\n",
              "        vertical-align: middle;\n",
              "    }\n",
              "\n",
              "    .dataframe tbody tr th {\n",
              "        vertical-align: top;\n",
              "    }\n",
              "\n",
              "    .dataframe thead th {\n",
              "        text-align: right;\n",
              "    }\n",
              "</style>\n",
              "<table border=\"1\" class=\"dataframe\">\n",
              "  <thead>\n",
              "    <tr style=\"text-align: right;\">\n",
              "      <th></th>\n",
              "      <th>instant</th>\n",
              "      <th>dteday</th>\n",
              "      <th>hr</th>\n",
              "      <th>temp</th>\n",
              "      <th>atemp</th>\n",
              "      <th>hum</th>\n",
              "      <th>windspeed</th>\n",
              "      <th>casual</th>\n",
              "      <th>registered</th>\n",
              "      <th>cnt</th>\n",
              "    </tr>\n",
              "  </thead>\n",
              "  <tbody>\n",
              "    <tr>\n",
              "      <th>count</th>\n",
              "      <td>17379.0000</td>\n",
              "      <td>17379</td>\n",
              "      <td>17379.000000</td>\n",
              "      <td>17379.000000</td>\n",
              "      <td>17379.000000</td>\n",
              "      <td>17379.000000</td>\n",
              "      <td>17379.000000</td>\n",
              "      <td>17379.000000</td>\n",
              "      <td>17379.000000</td>\n",
              "      <td>17379.000000</td>\n",
              "    </tr>\n",
              "    <tr>\n",
              "      <th>mean</th>\n",
              "      <td>8690.0000</td>\n",
              "      <td>2012-01-02 04:08:34.552045568</td>\n",
              "      <td>11.546752</td>\n",
              "      <td>0.496987</td>\n",
              "      <td>0.475775</td>\n",
              "      <td>0.627229</td>\n",
              "      <td>0.190098</td>\n",
              "      <td>35.676218</td>\n",
              "      <td>153.786869</td>\n",
              "      <td>189.463088</td>\n",
              "    </tr>\n",
              "    <tr>\n",
              "      <th>min</th>\n",
              "      <td>1.0000</td>\n",
              "      <td>2011-01-01 00:00:00</td>\n",
              "      <td>0.000000</td>\n",
              "      <td>0.020000</td>\n",
              "      <td>0.000000</td>\n",
              "      <td>0.000000</td>\n",
              "      <td>0.000000</td>\n",
              "      <td>0.000000</td>\n",
              "      <td>0.000000</td>\n",
              "      <td>1.000000</td>\n",
              "    </tr>\n",
              "    <tr>\n",
              "      <th>25%</th>\n",
              "      <td>4345.5000</td>\n",
              "      <td>2011-07-04 00:00:00</td>\n",
              "      <td>6.000000</td>\n",
              "      <td>0.340000</td>\n",
              "      <td>0.333300</td>\n",
              "      <td>0.480000</td>\n",
              "      <td>0.104500</td>\n",
              "      <td>4.000000</td>\n",
              "      <td>34.000000</td>\n",
              "      <td>40.000000</td>\n",
              "    </tr>\n",
              "    <tr>\n",
              "      <th>50%</th>\n",
              "      <td>8690.0000</td>\n",
              "      <td>2012-01-02 00:00:00</td>\n",
              "      <td>12.000000</td>\n",
              "      <td>0.500000</td>\n",
              "      <td>0.484800</td>\n",
              "      <td>0.630000</td>\n",
              "      <td>0.194000</td>\n",
              "      <td>17.000000</td>\n",
              "      <td>115.000000</td>\n",
              "      <td>142.000000</td>\n",
              "    </tr>\n",
              "    <tr>\n",
              "      <th>75%</th>\n",
              "      <td>13034.5000</td>\n",
              "      <td>2012-07-02 00:00:00</td>\n",
              "      <td>18.000000</td>\n",
              "      <td>0.660000</td>\n",
              "      <td>0.621200</td>\n",
              "      <td>0.780000</td>\n",
              "      <td>0.253700</td>\n",
              "      <td>48.000000</td>\n",
              "      <td>220.000000</td>\n",
              "      <td>281.000000</td>\n",
              "    </tr>\n",
              "    <tr>\n",
              "      <th>max</th>\n",
              "      <td>17379.0000</td>\n",
              "      <td>2012-12-31 00:00:00</td>\n",
              "      <td>23.000000</td>\n",
              "      <td>1.000000</td>\n",
              "      <td>1.000000</td>\n",
              "      <td>1.000000</td>\n",
              "      <td>0.850700</td>\n",
              "      <td>367.000000</td>\n",
              "      <td>886.000000</td>\n",
              "      <td>977.000000</td>\n",
              "    </tr>\n",
              "    <tr>\n",
              "      <th>std</th>\n",
              "      <td>5017.0295</td>\n",
              "      <td>NaN</td>\n",
              "      <td>6.914405</td>\n",
              "      <td>0.192556</td>\n",
              "      <td>0.171850</td>\n",
              "      <td>0.192930</td>\n",
              "      <td>0.122340</td>\n",
              "      <td>49.305030</td>\n",
              "      <td>151.357286</td>\n",
              "      <td>181.387599</td>\n",
              "    </tr>\n",
              "  </tbody>\n",
              "</table>\n",
              "</div>"
            ],
            "text/plain": [
              "          instant                         dteday            hr          temp  \\\n",
              "count  17379.0000                          17379  17379.000000  17379.000000   \n",
              "mean    8690.0000  2012-01-02 04:08:34.552045568     11.546752      0.496987   \n",
              "min        1.0000            2011-01-01 00:00:00      0.000000      0.020000   \n",
              "25%     4345.5000            2011-07-04 00:00:00      6.000000      0.340000   \n",
              "50%     8690.0000            2012-01-02 00:00:00     12.000000      0.500000   \n",
              "75%    13034.5000            2012-07-02 00:00:00     18.000000      0.660000   \n",
              "max    17379.0000            2012-12-31 00:00:00     23.000000      1.000000   \n",
              "std     5017.0295                            NaN      6.914405      0.192556   \n",
              "\n",
              "              atemp           hum     windspeed        casual    registered  \\\n",
              "count  17379.000000  17379.000000  17379.000000  17379.000000  17379.000000   \n",
              "mean       0.475775      0.627229      0.190098     35.676218    153.786869   \n",
              "min        0.000000      0.000000      0.000000      0.000000      0.000000   \n",
              "25%        0.333300      0.480000      0.104500      4.000000     34.000000   \n",
              "50%        0.484800      0.630000      0.194000     17.000000    115.000000   \n",
              "75%        0.621200      0.780000      0.253700     48.000000    220.000000   \n",
              "max        1.000000      1.000000      0.850700    367.000000    886.000000   \n",
              "std        0.171850      0.192930      0.122340     49.305030    151.357286   \n",
              "\n",
              "                cnt  \n",
              "count  17379.000000  \n",
              "mean     189.463088  \n",
              "min        1.000000  \n",
              "25%       40.000000  \n",
              "50%      142.000000  \n",
              "75%      281.000000  \n",
              "max      977.000000  \n",
              "std      181.387599  "
            ]
          },
          "metadata": {},
          "output_type": "display_data"
        },
        {
          "name": "stdout",
          "output_type": "stream",
          "text": [
            "Distribusi kategori `weathersit` di hour_df:\n",
            "weathersit\n",
            "1    11413\n",
            "2     4544\n",
            "3     1419\n",
            "4        3\n",
            "Name: count, dtype: int64\n",
            "Distribusi kategori `weathersit` di day_df:\n",
            "weathersit\n",
            "1    463\n",
            "2    247\n",
            "3     21\n",
            "4      0\n",
            "Name: count, dtype: int64\n",
            "\n",
            "Ringkasan statistik untuk hum dan windspeed di hour_df:\n",
            "                hum     windspeed\n",
            "count  17379.000000  17379.000000\n",
            "mean       0.627229      0.190098\n",
            "std        0.192930      0.122340\n",
            "min        0.000000      0.000000\n",
            "25%        0.480000      0.104500\n",
            "50%        0.630000      0.194000\n",
            "75%        0.780000      0.253700\n",
            "max        1.000000      0.850700\n",
            "\n",
            "Jumlah nilai 0 dalam hum: 22\n",
            "Jumlah nilai 0 dalam windspeed: 2180\n"
          ]
        }
      ],
      "source": [
        "# Menilai data day_df\n",
        "print(\"\\n=== INFO DATA DAY ===\")\n",
        "day_df.info()\n",
        "print(\"\\nJumlah Missing Values:\")\n",
        "print(day_df.isna().sum())\n",
        "print(\"Jumlah Duplikasi: \", day_df.duplicated().sum())\n",
        "display(day_df.describe())\n",
        "\n",
        "# Cek kategori `weathersit`\n",
        "print(\"Kategori weathersit yang ada:\", day_df['weathersit'].unique())\n",
        "print(day_df['weathersit'].value_counts())\n",
        "\n",
        "# Menilai data hour_df\n",
        "print(\"\\n=== INFO DATA HOUR ===\")\n",
        "hour_df.info()\n",
        "print(\"\\nJumlah Missing Values:\\n\", hour_df.isna().sum())\n",
        "print(\"Jumlah Duplikasi:\", hour_df.duplicated().sum())\n",
        "display(hour_df.describe())\n",
        "\n",
        "print(\"Distribusi kategori `weathersit` di hour_df:\")\n",
        "print(hour_df['weathersit'].value_counts())\n",
        "print(\"Distribusi kategori `weathersit` di day_df:\")\n",
        "print(day_df['weathersit'].value_counts())\n",
        "\n",
        "print(\"\\nRingkasan statistik untuk hum dan windspeed di hour_df:\")\n",
        "print(hour_df[['hum', 'windspeed']].describe())\n",
        "print(\"\\nJumlah nilai 0 dalam hum:\", (hour_df['hum'] == 0).sum())\n",
        "print(\"Jumlah nilai 0 dalam windspeed:\", (hour_df['windspeed'] == 0).sum())\n",
        "\n",
        "\n"
      ]
    },
    {
      "cell_type": "markdown",
      "metadata": {
        "id": "7dtxhAPrkhPL"
      },
      "source": [
        "**Insight:**\n",
        "- Pada day_df dan hour_df terdapat kesalahan tipe data untuk kolom dteday yaitu object yang seharusnya datetime.\n",
        "- Pada day_df terdapat kesalahan tipe data untuk kolom season, yr, mnth, weekday, weathersit yaitu object yang seharusnya category.\n",
        "- Pada hour_df terdapat kesalahan tipe data untuk kolom season, yr, mnth,  holiday, workingday, weekday, weathersit yaitu object yang seharusnya category.\n",
        "- Kolom weathersit di day_df memiliki nilai maksimum 3, padahal di hour_df terdapat kategori 4.\n",
        "- Ditemukan hum = 0 sebanyak 22 kali di hour_df, yang tidak masuk akal dan perlu diperbaiki dengan menggantinya ke rata-rata.\n",
        "- Ditemukan windspeed = 0 sebanyak 2180 kali di hour_df, yang terlalu banyak dan kemungkinan besar merupakan error pencatatan, sehingga perlu diperbaiki dengan menggantinya ke rata-rata."
      ]
    },
    {
      "cell_type": "markdown",
      "metadata": {
        "id": "EhN5R4hr8DC1"
      },
      "source": [
        "### Cleaning Data"
      ]
    },
    {
      "cell_type": "code",
      "execution_count": null,
      "metadata": {},
      "outputs": [
        {
          "name": "stdout",
          "output_type": "stream",
          "text": [
            "\n",
            "=== CLEANING DATA day_df ===\n",
            "\n",
            "=== INFO DATA day_df SETELAH CLEANING ===\n",
            "<class 'pandas.core.frame.DataFrame'>\n",
            "RangeIndex: 731 entries, 0 to 730\n",
            "Data columns (total 16 columns):\n",
            " #   Column      Non-Null Count  Dtype         \n",
            "---  ------      --------------  -----         \n",
            " 0   instant     731 non-null    int64         \n",
            " 1   dteday      731 non-null    datetime64[ns]\n",
            " 2   season      731 non-null    category      \n",
            " 3   yr          731 non-null    category      \n",
            " 4   mnth        731 non-null    category      \n",
            " 5   holiday     731 non-null    int64         \n",
            " 6   weekday     731 non-null    category      \n",
            " 7   workingday  731 non-null    int64         \n",
            " 8   weathersit  731 non-null    category      \n",
            " 9   temp        731 non-null    float64       \n",
            " 10  atemp       731 non-null    float64       \n",
            " 11  hum         731 non-null    float64       \n",
            " 12  windspeed   731 non-null    float64       \n",
            " 13  casual      731 non-null    int64         \n",
            " 14  registered  731 non-null    int64         \n",
            " 15  cnt         731 non-null    int64         \n",
            "dtypes: category(5), datetime64[ns](1), float64(4), int64(6)\n",
            "memory usage: 67.8 KB\n",
            "None\n",
            "\n",
            "Distribusi weathersit di day_df setelah cleaning:\n",
            "weathersit\n",
            "1    463\n",
            "2    247\n",
            "3     21\n",
            "4      0\n",
            "Name: count, dtype: int64\n",
            "\n",
            "Jumlah duplikasi di day_df setelah cleaning: 0\n",
            "\n",
            "=== CLEANING DATA hour_df ===\n",
            "\n",
            "Jumlah baris dengan hum = 0 sebelum perbaikan: 0\n",
            "Jumlah baris dengan hum = 0 setelah perbaikan: 0\n",
            "\n",
            "Jumlah baris dengan windspeed = 0 sebelum perbaikan: 0\n",
            "Jumlah baris dengan windspeed = 0 setelah perbaikan: 0\n",
            "\n",
            "Ringkasan statistik untuk hum dan windspeed di hour_df:\n",
            "                hum     windspeed\n",
            "count  17379.000000  17379.000000\n",
            "mean       0.628023      0.213943\n",
            "std        0.191633      0.099324\n",
            "min        0.080000      0.089600\n",
            "25%        0.480000      0.134300\n",
            "50%        0.630000      0.194000\n",
            "75%        0.780000      0.253700\n",
            "max        1.000000      0.850700\n",
            "\n",
            "Jumlah nilai 0 dalam hum: 0\n",
            "Jumlah nilai 0 dalam windspeed: 0\n",
            "\n",
            "=== INFO DATA hour_df SETELAH CLEANING ===\n",
            "<class 'pandas.core.frame.DataFrame'>\n",
            "RangeIndex: 17379 entries, 0 to 17378\n",
            "Data columns (total 17 columns):\n",
            " #   Column      Non-Null Count  Dtype         \n",
            "---  ------      --------------  -----         \n",
            " 0   instant     17379 non-null  int64         \n",
            " 1   dteday      17379 non-null  datetime64[ns]\n",
            " 2   season      17379 non-null  category      \n",
            " 3   yr          17379 non-null  category      \n",
            " 4   mnth        17379 non-null  category      \n",
            " 5   hr          17379 non-null  int64         \n",
            " 6   holiday     17379 non-null  category      \n",
            " 7   weekday     17379 non-null  category      \n",
            " 8   workingday  17379 non-null  category      \n",
            " 9   weathersit  17379 non-null  category      \n",
            " 10  temp        17379 non-null  float64       \n",
            " 11  atemp       17379 non-null  float64       \n",
            " 12  hum         17379 non-null  float64       \n",
            " 13  windspeed   17379 non-null  float64       \n",
            " 14  casual      17379 non-null  int64         \n",
            " 15  registered  17379 non-null  int64         \n",
            " 16  cnt         17379 non-null  int64         \n",
            "dtypes: category(7), datetime64[ns](1), float64(4), int64(5)\n",
            "memory usage: 1.4 MB\n",
            "None\n",
            "\n",
            "Distribusi weathersit di hour_df setelah cleaning:\n",
            "weathersit\n",
            "1    11413\n",
            "2     4544\n",
            "3     1419\n",
            "4        3\n",
            "Name: count, dtype: int64\n",
            "\n",
            "Jumlah duplikasi di hour_df setelah cleaning: 0\n"
          ]
        },
        {
          "name": "stderr",
          "output_type": "stream",
          "text": [
            "C:\\Users\\chata\\AppData\\Local\\Temp\\ipykernel_4424\\2484607815.py:45: FutureWarning: A value is trying to be set on a copy of a DataFrame or Series through chained assignment using an inplace method.\n",
            "The behavior will change in pandas 3.0. This inplace method will never work because the intermediate object on which we are setting values always behaves as a copy.\n",
            "\n",
            "For example, when doing 'df[col].method(value, inplace=True)', try using 'df.method({col: value}, inplace=True)' or df[col] = df[col].method(value) instead, to perform the operation inplace on the original object.\n",
            "\n",
            "\n",
            "  hour_df['hum'].replace(0, hour_df['hum'].mean(), inplace=True)\n"
          ]
        }
      ],
      "source": [
        "#Membersihkan data day_df\n",
        "print(\"\\n=== CLEANING DATA day_df ===\")\n",
        "# 1. Mengubah kolom 'dteday' menjadi tipe datetime\n",
        "day_df['dteday'] = pd.to_datetime(day_df['dteday'])\n",
        "\n",
        "# 2. Ubah kolom kategori menjadi tipe category\n",
        "categorical_cols_day = ['season', 'yr', 'mnth', 'weekday', 'weathersit']\n",
        "for col in categorical_cols_day:\n",
        "    day_df[col] = day_df[col].astype('category')\n",
        "\n",
        "# 3. Tambahkan kategori 4 pada 'weathersit' agar konsisten dengan hour_df\n",
        "if 4 not in day_df['weathersit'].cat.categories:\n",
        "    day_df['weathersit'] = day_df['weathersit'].cat.add_categories([4])\n",
        "\n",
        "# 4. Cek apakah ada hari di hour_df dengan weathersit = 4 tetapi tidak ada di day_df\n",
        "days_with_weathersit_4 = hour_df[hour_df['weathersit'] == 4]['dteday'].unique()\n",
        "\n",
        "# 5. Hapus data duplikasi (jika ada)\n",
        "day_df.drop_duplicates(inplace=True)\n",
        "\n",
        "# 6. Tampilkan informasi setelah pembersihan\n",
        "print(\"\\n=== INFO DATA day_df SETELAH CLEANING ===\")\n",
        "print(day_df.info())\n",
        "\n",
        "# 7. Cek distribusi weathersit setelah cleaning\n",
        "print(\"\\nDistribusi weathersit di day_df setelah cleaning:\")\n",
        "print(day_df['weathersit'].value_counts())\n",
        "\n",
        "# 8. Cek jumlah duplikasi setelah pembersihan\n",
        "print(\"\\nJumlah duplikasi di day_df setelah cleaning:\", day_df.duplicated().sum())\n",
        "\n",
        "#Membersihkan data hour_df\n",
        "print(\"\\n=== CLEANING DATA hour_df ===\")\n",
        "\n",
        "# 1. Mengubah kolom 'dteday' menjadi tipe datetime\n",
        "hour_df['dteday'] = pd.to_datetime(hour_df['dteday'])\n",
        "\n",
        "# 2. Ubah kolom kategori menjadi tipe category\n",
        "categorical_cols_hour = ['season', 'yr', 'mnth', 'holiday', 'workingday', 'weekday', 'weathersit']\n",
        "for col in categorical_cols_hour:\n",
        "    hour_df[col] = hour_df[col].astype('category')\n",
        "\n",
        "# 3. Perbaiki nilai `hum = 0` dengan rata-rata\n",
        "print(\"\\nJumlah baris dengan hum = 0 sebelum perbaikan:\", (hour_df['hum'] == 0).sum())\n",
        "hour_df['hum'].replace(0, hour_df['hum'].mean(), inplace=True)\n",
        "print(\"Jumlah baris dengan hum = 0 setelah perbaikan:\", (hour_df['hum'] == 0).sum())\n",
        "\n",
        "# 4. Perbaiki nilai `windspeed = 0` jika jumlahnya signifikan\n",
        "print(\"\\nJumlah baris dengan windspeed = 0 sebelum perbaikan:\", (hour_df['windspeed'] == 0).sum())\n",
        "if (hour_df['windspeed'] == 0).sum() > 100:  \n",
        "    hour_df['windspeed'].replace(0, hour_df['windspeed'].mean(), inplace=True)\n",
        "print(\"Jumlah baris dengan windspeed = 0 setelah perbaikan:\", (hour_df['windspeed'] == 0).sum())\n",
        "\n",
        "# 5. Hapus duplikasi jika ada\n",
        "hour_df.drop_duplicates(inplace=True)\n",
        "\n",
        "# 6. Tampilkan informasi setelah pembersihan\n",
        "print(\"\\n=== INFO DATA hour_df SETELAH CLEANING ===\")\n",
        "print(hour_df.info())\n",
        "\n",
        "# 7. Cek distribusi weathersit setelah cleaning\n",
        "print(\"\\nDistribusi weathersit di hour_df setelah cleaning:\")\n",
        "print(hour_df['weathersit'].value_counts())\n",
        "\n",
        "# 8. Cek jumlah duplikasi setelah pembersihan\n",
        "print(\"\\nJumlah duplikasi di hour_df setelah cleaning:\", hour_df.duplicated().sum())"
      ]
    },
    {
      "cell_type": "markdown",
      "metadata": {
        "id": "Q_5ejIqckiSP"
      },
      "source": [
        "**Insight:**\n",
        "- Tipe data sudah diperbaiki (kolom dteday menjadi 'datetime', dan kolom-kolom kategori menjadi 'category').\n",
        "- Kategori weathersit = 4 ditambahkan di day_df untuk konsistensi, tetapi nilainya tidak diubah.\n",
        "- hum = 0 (22 kali) dan windspeed = 0 (2180 kali) di hour_df diperbaiki dengan rata-rata.\n",
        "- Tidak ada duplikasi di day_df maupun hour_df."
      ]
    },
    {
      "cell_type": "markdown",
      "metadata": {
        "id": "gp-Y6wU38DC1"
      },
      "source": [
        "## Exploratory Data Analysis (EDA)"
      ]
    },
    {
      "cell_type": "markdown",
      "metadata": {
        "id": "MW7WF2kr8DC1"
      },
      "source": [
        "### Explore Data day_df dan hour_df"
      ]
    },
    {
      "cell_type": "code",
      "execution_count": 93,
      "metadata": {
        "id": "e9CQCZjk8DC2"
      },
      "outputs": [
        {
          "name": "stderr",
          "output_type": "stream",
          "text": [
            "C:\\Users\\chata\\AppData\\Local\\Temp\\ipykernel_4424\\3881334278.py:5: FutureWarning: The default of observed=False is deprecated and will be changed to True in a future version of pandas. Pass observed=False to retain current behavior or observed=True to adopt the future default and silence this warning.\n",
            "  day_df.groupby(\"season\").agg({\n",
            "C:\\Users\\chata\\AppData\\Local\\Temp\\ipykernel_4424\\3881334278.py:21: FutureWarning: The default of observed=False is deprecated and will be changed to True in a future version of pandas. Pass observed=False to retain current behavior or observed=True to adopt the future default and silence this warning.\n",
            "  day_df.groupby(\"weathersit\").agg({\n",
            "C:\\Users\\chata\\AppData\\Local\\Temp\\ipykernel_4424\\3881334278.py:35: FutureWarning: The default of observed=False is deprecated and will be changed to True in a future version of pandas. Pass observed=False to retain current behavior or observed=True to adopt the future default and silence this warning.\n",
            "  hour_df.groupby(\"weekday\").agg({\n",
            "C:\\Users\\chata\\AppData\\Local\\Temp\\ipykernel_4424\\3881334278.py:40: FutureWarning: The default of observed=False is deprecated and will be changed to True in a future version of pandas. Pass observed=False to retain current behavior or observed=True to adopt the future default and silence this warning.\n",
            "  hour_df.groupby(\"weathersit\").agg({\n"
          ]
        },
        {
          "data": {
            "text/html": [
              "<div>\n",
              "<style scoped>\n",
              "    .dataframe tbody tr th:only-of-type {\n",
              "        vertical-align: middle;\n",
              "    }\n",
              "\n",
              "    .dataframe tbody tr th {\n",
              "        vertical-align: top;\n",
              "    }\n",
              "\n",
              "    .dataframe thead tr th {\n",
              "        text-align: left;\n",
              "    }\n",
              "\n",
              "    .dataframe thead tr:last-of-type th {\n",
              "        text-align: right;\n",
              "    }\n",
              "</style>\n",
              "<table border=\"1\" class=\"dataframe\">\n",
              "  <thead>\n",
              "    <tr>\n",
              "      <th></th>\n",
              "      <th colspan=\"4\" halign=\"left\">cnt</th>\n",
              "    </tr>\n",
              "    <tr>\n",
              "      <th></th>\n",
              "      <th>sum</th>\n",
              "      <th>mean</th>\n",
              "      <th>max</th>\n",
              "      <th>min</th>\n",
              "    </tr>\n",
              "    <tr>\n",
              "      <th>weathersit</th>\n",
              "      <th></th>\n",
              "      <th></th>\n",
              "      <th></th>\n",
              "      <th></th>\n",
              "    </tr>\n",
              "  </thead>\n",
              "  <tbody>\n",
              "    <tr>\n",
              "      <th>1</th>\n",
              "      <td>2338173</td>\n",
              "      <td>204.869272</td>\n",
              "      <td>977</td>\n",
              "      <td>1</td>\n",
              "    </tr>\n",
              "    <tr>\n",
              "      <th>2</th>\n",
              "      <td>795952</td>\n",
              "      <td>175.165493</td>\n",
              "      <td>957</td>\n",
              "      <td>1</td>\n",
              "    </tr>\n",
              "    <tr>\n",
              "      <th>3</th>\n",
              "      <td>158331</td>\n",
              "      <td>111.579281</td>\n",
              "      <td>891</td>\n",
              "      <td>1</td>\n",
              "    </tr>\n",
              "    <tr>\n",
              "      <th>4</th>\n",
              "      <td>223</td>\n",
              "      <td>74.333333</td>\n",
              "      <td>164</td>\n",
              "      <td>23</td>\n",
              "    </tr>\n",
              "  </tbody>\n",
              "</table>\n",
              "</div>"
            ],
            "text/plain": [
              "                cnt                     \n",
              "                sum        mean  max min\n",
              "weathersit                              \n",
              "1           2338173  204.869272  977   1\n",
              "2            795952  175.165493  957   1\n",
              "3            158331  111.579281  891   1\n",
              "4               223   74.333333  164  23"
            ]
          },
          "execution_count": 93,
          "metadata": {},
          "output_type": "execute_result"
        }
      ],
      "source": [
        "#=== Eksplorasi Data day_df ===\n",
        "day_df.describe(include=\"all\")\n",
        "\n",
        "# Jumlah penyewaan berdasarkan musim\n",
        "day_df.groupby(\"season\").agg({\n",
        "    \"cnt\": [\"sum\", \"mean\", \"max\", \"min\"]\n",
        "}).sort_values(by=(\"cnt\", \"sum\"), ascending=False)\n",
        "\n",
        "# Jumlah penyewaan pada hari kerja vs akhir pekan\n",
        "day_df.groupby(\"workingday\").agg({\n",
        "    \"cnt\": [\"sum\", \"mean\", \"max\", \"min\"]\n",
        "}).sort_values(by=(\"cnt\", \"sum\"), ascending=False)\n",
        "\n",
        "# Pola penyewaan antara pengguna kasual dan terdaftar\n",
        "day_df.agg({\n",
        "    \"casual\": [\"sum\", \"mean\", \"max\", \"min\"],\n",
        "    \"registered\": [\"sum\", \"mean\", \"max\", \"min\"]\n",
        "})\n",
        "\n",
        "# Jumlah penyewaan berdasarkan kondisi cuaca\n",
        "day_df.groupby(\"weathersit\").agg({\n",
        "    \"cnt\": [\"sum\", \"mean\", \"max\", \"min\"]\n",
        "}).sort_values(by=(\"cnt\", \"sum\"), ascending=False)\n",
        "\n",
        "\n",
        "#=== Eksplorasi Data hour_df ===\n",
        "hour_df.describe(include=\"all\")\n",
        "\n",
        "# Jumlah penyewaan berdasarkan jam\n",
        "hour_df.groupby(\"hr\").agg({\n",
        "    \"cnt\": [\"sum\", \"mean\", \"max\", \"min\"]\n",
        "}).sort_values(by=(\"cnt\", \"sum\"), ascending=False)\n",
        "\n",
        "# Jumlah penyewaan berdasarkan hari dalam seminggu\n",
        "hour_df.groupby(\"weekday\").agg({\n",
        "    \"cnt\": [\"sum\", \"mean\", \"max\", \"min\"]\n",
        "}).sort_values(by=(\"cnt\", \"sum\"), ascending=False)\n",
        "\n",
        "# Jumlah penyewaan berdasarkan kondisi cuaca\n",
        "hour_df.groupby(\"weathersit\").agg({\n",
        "    \"cnt\": [\"sum\", \"mean\", \"max\", \"min\"]\n",
        "}).sort_values(by=(\"cnt\", \"sum\"), ascending=False)\n"
      ]
    },
    {
      "cell_type": "markdown",
      "metadata": {
        "id": "th_Lzl2Fkj9O"
      },
      "source": [
        "**Insight:**\n",
        "\n",
        "DAY_DF\n",
        "- Musim gugur (season = 3) memiliki jumlah penyewaan sepeda terbanyak dibandingkan musim lainnya, dengan total 1.061.129 penyewaan dan rata-rata 5.644 per hari. Sebaliknya, musim dingin (season = 1) memiliki penyewaan terendah, kemungkinan karena cuaca yang lebih dingin mengurangi aktivitas bersepeda.\n",
        "- Jumlah penyewaan sepeda lebih tinggi pada hari kerja (workingday = 1) dengan total 2.292.410 penyewaan dibandingkan akhir pekan atau hari libur (workingday = 0) yang hanya 1.000.269 penyewaan. Hal ini menunjukkan bahwa sepeda lebih banyak digunakan untuk keperluan transportasi harian dibandingkan rekreasi akhir pekan.\n",
        "- Jumlah penyewaan dari pengguna terdaftar (registered) jauh lebih tinggi dibandingkan pengguna kasual (casual), dengan total 2.672.662 vs 620.017 penyewaan. Hal ini menunjukkan bahwa mayoritas penyewa sepeda adalah pelanggan tetap yang memiliki akun terdaftar, sedangkan pengguna kasual lebih sedikit dan kemungkinan besar hanya menggunakan sepeda sesekali.\n",
        "- Jumlah penyewaan sepeda tertinggi terjadi pada kondisi cuaca cerah (kategori 1) dengan total 2.257.952 penyewaan, diikuti oleh cuaca berawan (kategori 2) dengan 996.858 penyewaan. Penyewaan sepeda menurun drastis saat cuaca buruk (kategori 3: hujan ringan/salju ringan), dengan hanya 37.869 penyewaan.\n",
        "\n",
        "HOUR_DF\n",
        "- Penyewaan sepeda paling tinggi terjadi pada pukul 17:00 (5 sore) dan 18:00 (6 sore), yang kemungkinan besar bertepatan dengan jam pulang kerja. Selain itu, pukul 8 pagi juga memiliki jumlah penyewaan yang tinggi, mencerminkan penggunaan sepeda untuk perjalanan ke tempat kerja atau sekolah. Sebaliknya, penyewaan sepeda sangat rendah antara pukul 00:00 - 05:00, saat aktivitas masyarakat cenderung minim.\n",
        "- Penyewaan sepeda tertinggi terjadi pada hari Jumat (weekday = 5), diikuti oleh Kamis (weekday = 4) dan Sabtu (weekday = 6), menunjukkan bahwa penggunaan sepeda meningkat menjelang akhir pekan. Penyewaan terendah terjadi pada Minggu (weekday = 0), kemungkinan karena lebih sedikit orang yang bepergian untuk bekerja atau sekolah.\n",
        "- Penyewaan sepeda tertinggi terjadi saat cuaca cerah (weathersit = 1) dengan total 2.338.173 penyewaan, diikuti oleh cuaca berawan (weathersit = 2) dengan 795.952 penyewaan. Penyewaan berkurang signifikan saat hujan ringan (weathersit = 3) dan hampir tidak ada saat cuaca ekstrem (weathersit = 4), menunjukkan bahwa kondisi cuaca sangat mempengaruhi penggunaan sepeda.\n",
        "\n",
        "\n"
      ]
    },
    {
      "cell_type": "code",
      "execution_count": null,
      "metadata": {},
      "outputs": [
        {
          "name": "stdout",
          "output_type": "stream",
          "text": [
            "Kolom pada day.csv: Index(['instant', 'dteday', 'season', 'yr', 'mnth', 'holiday', 'weekday',\n",
            "       'workingday', 'weathersit', 'temp', 'atemp', 'hum', 'windspeed',\n",
            "       'casual', 'registered', 'cnt'],\n",
            "      dtype='object')\n",
            "Kolom pada hour.csv: Index(['instant', 'dteday', 'season', 'yr', 'mnth', 'hr', 'holiday', 'weekday',\n",
            "       'workingday', 'weathersit', 'temp', 'atemp', 'hum', 'windspeed',\n",
            "       'casual', 'registered', 'cnt'],\n",
            "      dtype='object')\n",
            "Jumlah baris day.csv: 731\n",
            "Jumlah baris hour.csv: 17379\n"
          ]
        }
      ],
      "source": [
        "day_df = pd.read_csv(\"data/day.csv\")\n",
        "day_df.head()\n",
        "hour_df = pd.read_csv(\"data/hour.csv\")\n",
        "hour_df.head()\n",
        "\n",
        "print(\"Kolom pada day.csv:\", day_df.columns)\n",
        "print(\"Kolom pada hour.csv:\", hour_df.columns)\n",
        "print(\"Jumlah baris day.csv:\", len(day_df))\n",
        "print(\"Jumlah baris hour.csv:\", len(hour_df))\n",
        "\n",
        "#readme = open(\"data/Readme.txt\", \"r\").read()\n",
        "\n"
      ]
    },
    {
      "cell_type": "markdown",
      "metadata": {
        "id": "zsyZjqak8DC2"
      },
      "source": [
        "## Visualization & Explanatory Analysis"
      ]
    },
    {
      "cell_type": "markdown",
      "metadata": {
        "id": "HZxOiQ6n8DC2"
      },
      "source": [
        "### Pertanyaan 1: Apakah ada perbedaan jumlah penyewaan sepeda pada hari kerja dan akhir pekan?"
      ]
    },
    {
      "cell_type": "code",
      "execution_count": 94,
      "metadata": {
        "id": "1swJUdAD8DC2"
      },
      "outputs": [
        {
          "name": "stderr",
          "output_type": "stream",
          "text": [
            "C:\\Users\\chata\\AppData\\Local\\Temp\\ipykernel_4424\\240557335.py:2: FutureWarning: \n",
            "\n",
            "Passing `palette` without assigning `hue` is deprecated and will be removed in v0.14.0. Assign the `x` variable to `hue` and set `legend=False` for the same effect.\n",
            "\n",
            "  sns.barplot(\n"
          ]
        },
        {
          "data": {
            "image/png": "[encoded data removed]",
            "text/plain": [
              "<Figure size 800x500 with 1 Axes>"
            ]
          },
          "metadata": {},
          "output_type": "display_data"
        }
      ],
      "source": [
        "plt.figure(figsize=(8, 5))\n",
        "sns.barplot(\n",
        "    x=day_df['workingday'], \n",
        "    y=day_df['cnt'], \n",
        "    estimator=sum, \n",
        "    palette=[\"#72BCD4\", \"#FFA07A\"],\n",
        ")\n",
        "plt.xticks(ticks=[0, 1], labels=[\"Akhir Pekan\", \"Hari Kerja\"])\n",
        "plt.title(\"Jumlah Penyewaan Sepeda: Hari Kerja vs Akhir Pekan\", fontsize=14)\n",
        "plt.xlabel(\"Hari\")\n",
        "plt.ylabel(\"Jumlah Penyewaan\")\n",
        "plt.show()"
      ]
    },
    {
      "cell_type": "markdown",
      "metadata": {
        "id": "DgHI7CiU8DC2"
      },
      "source": [
        "### Pertanyaan 2: Bagaimana perbedaan jumlah penyewaan sepeda berdasarkan musim?"
      ]
    },
    {
      "cell_type": "code",
      "execution_count": 105,
      "metadata": {
        "id": "Go0lCsvO8DC2"
      },
      "outputs": [
        {
          "name": "stderr",
          "output_type": "stream",
          "text": [
            "C:\\Users\\chata\\AppData\\Local\\Temp\\ipykernel_4424\\1564001647.py:2: FutureWarning: \n",
            "\n",
            "Passing `palette` without assigning `hue` is deprecated and will be removed in v0.14.0. Assign the `x` variable to `hue` and set `legend=False` for the same effect.\n",
            "\n",
            "  sns.barplot(\n"
          ]
        },
        {
          "data": {
            "image/png": "[encoded data removed]",
            "text/plain": [
              "<Figure size 800x500 with 1 Axes>"
            ]
          },
          "metadata": {},
          "output_type": "display_data"
        }
      ],
      "source": [
        "plt.figure(figsize=(8, 5))\n",
        "sns.barplot(\n",
        "    x=day_df['season'], \n",
        "    y=day_df['cnt'], \n",
        "    estimator=sum, \n",
        "    palette=\"coolwarm\"\n",
        ")\n",
        "plt.xticks(ticks=[0, 1, 2, 3], labels=[\"Semi\", \"Panas\", \"Gugur\", \"Dingin\"])\n",
        "plt.title(\"Jumlah Penyewaan Sepeda Berdasarkan Musim\", fontsize=14)\n",
        "plt.xlabel(\"Musim\")\n",
        "plt.ylabel(\"Jumlah Penyewaan\")\n",
        "plt.show()"
      ]
    },
    {
      "cell_type": "markdown",
      "metadata": {},
      "source": [
        "### Pertanyaan 3: Bagaimana pola penyewaan sepeda antara pengguna kasual dan pengguna terdaftar berdasarkan hari kerja dan akhir pekan?"
      ]
    },
    {
      "cell_type": "code",
      "execution_count": null,
      "metadata": {},
      "outputs": [
        {
          "data": {
            "text/plain": [
              "<Figure size 800x500 with 0 Axes>"
            ]
          },
          "metadata": {},
          "output_type": "display_data"
        },
        {
          "data": {
            "image/png": "[encoded data removed]",
            "text/plain": [
              "<Figure size 800x500 with 1 Axes>"
            ]
          },
          "metadata": {},
          "output_type": "display_data"
        }
      ],
      "source": [
        "# Kelompokkan data berdasarkan hari kerja vs akhir pekan\n",
        "day_df_grouped_workingday = day_df.groupby(\"workingday\")[[\"casual\", \"registered\"]].sum().reset_index()\n",
        "\n",
        "# Ganti angka workingday dengan label yang lebih jelas\n",
        "day_df_grouped_workingday[\"workingday\"] = day_df_grouped_workingday[\"workingday\"].map({0: \"Akhir Pekan\", 1: \"Hari Kerja\"})\n",
        "\n",
        "# Plot stacked bar chart berdasarkan hari kerja vs akhir pekan\n",
        "plt.figure(figsize=(8, 5))\n",
        "day_df_grouped_workingday.set_index(\"workingday\").plot(kind=\"bar\", stacked=True, colormap=\"viridis\", figsize=(8, 5))\n",
        "plt.title(\"Pola Penyewaan Sepeda Berdasarkan Hari Kerja vs Akhir Pekan\", fontsize=14)\n",
        "plt.xlabel(\"Hari\")\n",
        "plt.ylabel(\"Jumlah Penyewaan\")\n",
        "plt.legend([\"Casual\", \"Registered\"])\n",
        "plt.xticks(rotation=0)  \n",
        "plt.show()\n"
      ]
    },
    {
      "cell_type": "markdown",
      "metadata": {
        "id": "_0-36BDLklRg"
      },
      "source": [
        "**Insight:**\n",
        "- Jumlah penyewaan sepeda lebih tinggi pada hari kerja dibandingkan akhir pekan, menunjukkan bahwa sepeda lebih sering digunakan sebagai sarana transportasi utama daripada sekadar untuk rekreasi.\n",
        "- Penyewaan tertinggi terjadi di musim gugur dan musim panas, sementara musim semi memiliki jumlah penyewaan terendah, kemungkinan karena cuaca yang lebih mendukung aktivitas luar ruangan di musim panas dan gugur.\n",
        "- Pengguna terdaftar mendominasi baik di hari kerja maupun akhir pekan, namun pada akhir pekan, persentase pengguna kasual meningkat, menandakan bahwa sepeda lebih banyak digunakan untuk rekreasi saat libur."
      ]
    },
    {
      "cell_type": "markdown",
      "metadata": {
        "id": "9y4VUsmcYNZ5"
      },
      "source": [
        "## Analisis Lanjutan (Opsional)"
      ]
    },
    {
      "cell_type": "code",
      "execution_count": 111,
      "metadata": {
        "id": "iWhnzsJGYUCO"
      },
      "outputs": [
        {
          "name": "stderr",
          "output_type": "stream",
          "text": [
            "C:\\Users\\chata\\AppData\\Local\\Temp\\ipykernel_4424\\821969914.py:14: FutureWarning: The default of observed=False is deprecated and will be changed to True in a future version of pandas. Pass observed=False to retain current behavior or observed=True to adopt the future default and silence this warning.\n",
            "  season_avg = day_df.groupby(\"season\")[\"cnt\"].mean().sort_values()\n",
            "C:\\Users\\chata\\AppData\\Local\\Temp\\ipykernel_4424\\821969914.py:55: FutureWarning: \n",
            "\n",
            "Passing `palette` without assigning `hue` is deprecated and will be removed in v0.14.0. Assign the `x` variable to `hue` and set `legend=False` for the same effect.\n",
            "\n",
            "  sns.barplot(x=demand_distribution.index, y=demand_distribution.values, palette=\"coolwarm\")\n"
          ]
        },
        {
          "name": "stdout",
          "output_type": "stream",
          "text": [
            "\n",
            "=== Distribusi Kategori Demand ===\n",
            "demand_category\n",
            "Medium Demand    379\n",
            "High Demand      180\n",
            "Low Demand       172\n",
            "Name: count, dtype: int64\n",
            "\n",
            "=== Distribusi Kategori Musim ===\n",
            "season_category\n",
            "High Season      372\n",
            "Low Season       181\n",
            "Medium Season    178\n",
            "Name: count, dtype: int64\n",
            "\n",
            "=== Distribusi Demand Berdasarkan Musim ===\n",
            "demand_category  High Demand  Low Demand  Medium Demand\n",
            "season_category                                        \n",
            "High Season              140          29            203\n",
            "Low Season                 5         117             59\n",
            "Medium Season             35          26            117\n"
          ]
        },
        {
          "data": {
            "image/png": "[encoded data removed]",
            "text/plain": [
              "<Figure size 600x400 with 1 Axes>"
            ]
          },
          "metadata": {},
          "output_type": "display_data"
        },
        {
          "data": {
            "image/png": "[encoded data removed]",
            "text/plain": [
              "<Figure size 800x500 with 1 Axes>"
            ]
          },
          "metadata": {},
          "output_type": "display_data"
        }
      ],
      "source": [
        "# === CLUSTERING JUMLAH PENYEWAAN HARIAN ===\n",
        "def categorize_demand(cnt):\n",
        "    if cnt <= 3000:\n",
        "        return \"Low Demand\"\n",
        "    elif cnt <= 6000:\n",
        "        return \"Medium Demand\"\n",
        "    else:\n",
        "        return \"High Demand\"\n",
        "\n",
        "# Tambahkan kategori demand\n",
        "day_df[\"demand_category\"] = day_df[\"cnt\"].apply(categorize_demand)\n",
        "\n",
        "# === Clustering Musim Berdasarkan Rata-rata Penyewaan ===\n",
        "season_avg = day_df.groupby(\"season\")[\"cnt\"].mean().sort_values()\n",
        "\n",
        "low_season = season_avg.index[0]\n",
        "medium_season = season_avg.index[1]\n",
        "high_season = season_avg.index[2]\n",
        "\n",
        "def categorize_season(season):\n",
        "    if season == low_season:\n",
        "        return \"Low Season\"\n",
        "    elif season == medium_season:\n",
        "        return \"Medium Season\"\n",
        "    else:\n",
        "        return \"High Season\"\n",
        "\n",
        "# Tambahkan kategori musim\n",
        "day_df[\"season_category\"] = day_df[\"season\"].apply(categorize_season)\n",
        "\n",
        "# === Analisis Distribusi Clustering ===\n",
        "# Distribusi kategori demand\n",
        "demand_distribution = day_df[\"demand_category\"].value_counts()\n",
        "\n",
        "print(\"\\n=== Distribusi Kategori Demand ===\")\n",
        "print(demand_distribution)\n",
        "\n",
        "# Distribusi kategori musim\n",
        "season_distribution = day_df[\"season_category\"].value_counts()\n",
        "\n",
        "print(\"\\n=== Distribusi Kategori Musim ===\")\n",
        "print(season_distribution)\n",
        "\n",
        "# === Analisis Hubungan Demand dengan Musim ===\n",
        "season_demand = day_df.groupby(\"season_category\")[\"demand_category\"].value_counts().unstack()\n",
        "\n",
        "print(\"\\n=== Distribusi Demand Berdasarkan Musim ===\")\n",
        "print(season_demand)\n",
        "\n",
        "\n",
        "# === Visualisasi Clustering ===\n",
        "\n",
        "# 1. Visualisasi Distribusi Kategori Demand\n",
        "plt.figure(figsize=(6, 4))\n",
        "sns.barplot(x=demand_distribution.index, y=demand_distribution.values, palette=\"coolwarm\")\n",
        "plt.title(\"Distribusi Kategori Demand\")\n",
        "plt.xlabel(\"Kategori Demand\")\n",
        "plt.ylabel(\"Jumlah Hari\")\n",
        "plt.show()\n",
        "\n",
        "# 2. Visualisasi Demand Berdasarkan Musim\n",
        "season_demand.plot(kind=\"bar\", stacked=True, figsize=(8, 5), colormap=\"magma\")\n",
        "plt.title(\"Permintaan Sepeda Berdasarkan Musim\")\n",
        "plt.xlabel(\"Kategori Musim\")\n",
        "plt.ylabel(\"Jumlah Hari\")\n",
        "plt.xticks(rotation=0)\n",
        "plt.legend(title=\"Demand Category\")\n",
        "plt.show()\n"
      ]
    },
    {
      "cell_type": "markdown",
      "metadata": {
        "id": "_WeHlCeX8DC2"
      },
      "source": [
        "## Conclusion"
      ]
    },
    {
      "cell_type": "markdown",
      "metadata": {
        "id": "ZTcyR48Y8DC2"
      },
      "source": [
        "- Conclusion Pertanyaan 1 (Perbedaan Penyewaan Sepeda pada Hari Kerja dan Akhir Pekan): \n",
        "Penyewaan sepeda lebih tinggi pada hari kerja dibandingkan akhir pekan. Hal ini menunjukkan bahwa sebagian besar pengguna menggunakan sepeda untuk keperluan transportasi sehari-hari, seperti bekerja atau sekolah, dibandingkan untuk rekreasi.\n",
        "\n",
        "- Conclusion Pertanyaan 2 (Perbedaan Penyewaan Sepeda Berdasarkan Musim): \n",
        "Penyewaan sepeda tertinggi terjadi pada musim gugur dan musim panas, sedangkan musim semi memiliki jumlah penyewaan paling sedikit. Kemungkinan besar, cuaca yang lebih nyaman di musim gugur dan panas mendukung aktivitas bersepeda, sementara musim semi mungkin memiliki kondisi cuaca yang kurang ideal.\n",
        "\n",
        "- Conclusion Pertanyaan 3 (Pola Penyewaan Pengguna Kasual dan Terdaftar Berdasarkan Hari Kerja dan Akhir Pekan): \n",
        "Pengguna terdaftar mendominasi penyewaan sepeda pada hari kerja, sedangkan pada akhir pekan terdapat peningkatan proporsi pengguna kasual. Ini mengindikasikan bahwa pengguna terdaftar lebih banyak menggunakan sepeda sebagai alat transportasi rutin, sedangkan pengguna kasual cenderung memanfaatkan sepeda untuk aktivitas santai di akhir pekan."
      ]
    },
    {
      "cell_type": "markdown",
      "metadata": {},
      "source": [
        "## Conclusion Analisis Lanjutan (Clustering Manual)"
      ]
    },
    {
      "cell_type": "markdown",
      "metadata": {},
      "source": [
        "1. Sebagian besar hari masuk dalam kategori *Medium Demand*, sementara *High Demand* dan *Low Demand* lebih sedikit. Hal ini menunjukkan bahwa jumlah penyewaan sepeda per hari umumnya berada di tingkat menengah, bukan terlalu rendah atau sangat tinggi.  \n",
        "\n",
        "2. Musim dengan penyewaan tertinggi (*High Season*) berlangsung lebih lama dibandingkan *Low Season*. Ini menunjukkan bahwa sebagian besar waktu dalam setahun memiliki kondisi yang mendukung tingginya permintaan sepeda.  \n",
        "\n",
        "3. Pada *High Season*, jumlah penyewaan sepeda lebih tinggi, dengan banyak hari masuk dalam kategori *Medium Demand* dan *High Demand*. Ini menandakan bahwa kondisi musim yang baik mendorong lebih banyak orang untuk bersepeda.  \n",
        "\n",
        "4. *Low Season* didominasi oleh *Low Demand*, yang berarti pada musim ini jumlah penyewaan sepeda cenderung lebih rendah, kemungkinan karena cuaca atau faktor lain yang kurang mendukung aktivitas bersepeda.  \n",
        "\n",
        "5. Musim memiliki pengaruh besar terhadap jumlah penyewaan sepeda. Untuk meningkatkan penyewaan pada *Low Season*, dapat diterapkan strategi seperti promosi, diskon, atau peningkatan fasilitas agar lebih banyak orang tetap menggunakan sepeda."
      ]
    },
    {
      "cell_type": "markdown",
      "metadata": {},
      "source": [
        "## Data Merging & Export"
      ]
    },
    {
      "cell_type": "markdown",
      "metadata": {},
      "source": [
        "Proses penggabungan (merging) dataset dilakukan untuk menyatukan informasi dari day_df (data harian) dan hour_df (data per jam) agar analisis dan visualisasi lebih lengkap dan tidak duplikasi data. Penggabungan dilakukan berdasarkan dteday sebagai kunci utama karena kedua dataset memiliki kolom ini sebagai indikator tanggal.\n",
        "\n",
        "Alasan Penggabungan Dataset:\n",
        "- Jika analisis hanya berfokus pada data harian, penggunaan day_df sudah mencukupi.\n",
        "- Jika diperlukan analisis lebih mendetail berdasarkan jam, maka hour_df lebih sesuai.\n",
        "- Untuk mendapatkan wawasan yang lebih komprehensif, seperti tren harian yang dilengkapi dengan data per jam, menggabungkan kedua dataset menjadi langkah yang tepat.\n",
        "\n",
        "Tahapan yang Dilakukan:\n",
        "- Menggabungkan data dari hour_df dengan day_df, dengan menghapus beberapa kolom yang sudah ada di hour_df agar tidak terjadi duplikasi.\n",
        "- Menggunakan dteday sebagai kunci penggabungan karena kedua dataset berbagi kolom ini.\n",
        "- Menyimpan hasil merge ke dalam file CSV (dashboard/main_data.csv) agar bisa digunakan pada tahap berikutnya, termasuk pembuatan dashboard."
      ]
    },
    {
      "cell_type": "code",
      "execution_count": 127,
      "metadata": {},
      "outputs": [
        {
          "name": "stdout",
          "output_type": "stream",
          "text": [
            "Kolom di day_df sebelum drop: ['dteday', 'season', 'yr', 'mnth', 'holiday', 'weekday', 'workingday', 'weathersit', 'temp', 'atemp', 'hum', 'windspeed']\n",
            "Kolom di hour_df sebelum drop: ['dteday', 'season', 'yr', 'mnth', 'hr', 'holiday', 'weekday', 'workingday', 'weathersit', 'temp', 'atemp', 'hum', 'windspeed', 'casual', 'registered', 'cnt']\n",
            "Kolom di day_df setelah drop: ['dteday', 'season', 'yr', 'mnth', 'holiday', 'weekday', 'workingday', 'weathersit', 'temp', 'atemp', 'hum', 'windspeed']\n",
            "Kolom di hour_df setelah drop: ['dteday', 'season', 'yr', 'mnth', 'hr', 'holiday', 'weekday', 'workingday', 'weathersit', 'temp', 'atemp', 'hum', 'windspeed', 'casual', 'registered', 'cnt']\n",
            "Kolom setelah merge: ['dteday', 'season_x', 'yr_x', 'mnth_x', 'hr', 'holiday_x', 'weekday_x', 'workingday_x', 'weathersit_x', 'temp_x', 'atemp_x', 'hum_x', 'windspeed_x', 'casual', 'registered', 'cnt', 'season_y', 'yr_y', 'mnth_y', 'holiday_y', 'weekday_y', 'workingday_y', 'weathersit_y', 'temp_y', 'atemp_y', 'hum_y', 'windspeed_y']\n",
            "Kolom setelah final cleaning: ['dteday', 'season', 'yr', 'mnth', 'hr', 'holiday', 'weekday', 'workingday', 'weathersit', 'temp', 'atemp', 'hum', 'windspeed', 'casual', 'registered', 'cnt']\n",
            "✅ Data berhasil digabung dan diekspor ke 'dashboard/main_data.csv'\n"
          ]
        }
      ],
      "source": [
        "# Debug: Periksa kolom yang ada sebelum penghapusan\n",
        "print(\"Kolom di day_df sebelum drop:\", day_df.columns.tolist())\n",
        "print(\"Kolom di hour_df sebelum drop:\", hour_df.columns.tolist())\n",
        "\n",
        "# === Hapus Kolom yang Tidak Diperlukan ===\n",
        "# Gunakan errors=\"ignore\" agar tidak error jika kolom tidak ada\n",
        "day_df.drop(columns=[\"instant\", \"casual\", \"registered\", \"cnt\"], inplace=True, errors=\"ignore\")\n",
        "hour_df.drop(columns=[\"instant\"], inplace=True, errors=\"ignore\")\n",
        "\n",
        "# Debug: Periksa kembali kolom setelah penghapusan\n",
        "print(\"Kolom di day_df setelah drop:\", day_df.columns.tolist())\n",
        "print(\"Kolom di hour_df setelah drop:\", hour_df.columns.tolist())\n",
        "\n",
        "# === Merge Data (Gabungkan day_df & hour_df) ===\n",
        "final_merged_df = pd.merge(\n",
        "    hour_df,  \n",
        "    day_df,  \n",
        "    on=\"dteday\",\n",
        "    how=\"left\"\n",
        ")\n",
        "\n",
        "# Debug: Cek kolom setelah merge\n",
        "print(\"Kolom setelah merge:\", final_merged_df.columns.tolist())\n",
        "\n",
        "# === Hapus Kolom yang Redundan (Duplikat) ===\n",
        "# Hapus semua kolom dengan akhiran \"_y\"\n",
        "columns_to_drop = [col for col in final_merged_df.columns if col.endswith(\"_y\")]\n",
        "final_merged_df.drop(columns=columns_to_drop, inplace=True, errors=\"ignore\")\n",
        "\n",
        "# Rename kolom \"_x\" agar lebih bersih\n",
        "final_merged_df.rename(columns=lambda x: x.replace(\"_x\", \"\"), inplace=True)\n",
        "\n",
        "# Debug: Periksa kembali kolom setelah pembersihan\n",
        "print(\"Kolom setelah final cleaning:\", final_merged_df.columns.tolist())\n",
        "\n",
        "# === Ekspor Data ke CSV ===\n",
        "final_merged_df.to_csv(\"dashboard/main_data.csv\", index=False)\n",
        "\n",
        "print(\"✅ Data berhasil digabung dan diekspor ke 'dashboard/main_data.csv'\")"
      ]
    },
    {
      "cell_type": "markdown",
      "metadata": {},
      "source": [
        "**Insight:**\n",
        "Penggabungan dataset memastikan bahwa data memiliki cakupan yang lebih luas, mencakup informasi harian dan jam dalam satu dataset yang lebih ringkas. Hal ini memudahkan proses analisis lebih lanjut, seperti eksplorasi tren harian dan faktor-faktor yang mempengaruhi penyewaan sepeda. Selain itu, ekspor data ke main_data.csv memungkinkan penggunaan dataset yang telah bersih dan terstruktur dalam pembuatan dashboard tanpa perlu melakukan merging ulang."
      ]
    },
    {
      "cell_type": "markdown",
      "metadata": {},
      "source": [
        "## Cek Data Setelah Merging & Export"
      ]
    },
    {
      "cell_type": "code",
      "execution_count": 128,
      "metadata": {},
      "outputs": [
        {
          "name": "stdout",
          "output_type": "stream",
          "text": [
            "🔍 5 Baris Pertama dari main_data.csv\n",
            "       dteday  season  yr  mnth  hr  holiday  weekday  workingday  weathersit  \\\n",
            "0  2011-01-01       1   0     1   0        0        6           0           1   \n",
            "1  2011-01-01       1   0     1   1        0        6           0           1   \n",
            "2  2011-01-01       1   0     1   2        0        6           0           1   \n",
            "3  2011-01-01       1   0     1   3        0        6           0           1   \n",
            "4  2011-01-01       1   0     1   4        0        6           0           1   \n",
            "\n",
            "   temp   atemp   hum  windspeed  casual  registered  cnt  \n",
            "0  0.24  0.2879  0.81        0.0       3          13   16  \n",
            "1  0.22  0.2727  0.80        0.0       8          32   40  \n",
            "2  0.22  0.2727  0.80        0.0       5          27   32  \n",
            "3  0.24  0.2879  0.75        0.0       3          10   13  \n",
            "4  0.24  0.2879  0.75        0.0       0           1    1  \n",
            "\n",
            "🔍 Informasi Dataset:\n",
            "<class 'pandas.core.frame.DataFrame'>\n",
            "RangeIndex: 17379 entries, 0 to 17378\n",
            "Data columns (total 16 columns):\n",
            " #   Column      Non-Null Count  Dtype  \n",
            "---  ------      --------------  -----  \n",
            " 0   dteday      17379 non-null  object \n",
            " 1   season      17379 non-null  int64  \n",
            " 2   yr          17379 non-null  int64  \n",
            " 3   mnth        17379 non-null  int64  \n",
            " 4   hr          17379 non-null  int64  \n",
            " 5   holiday     17379 non-null  int64  \n",
            " 6   weekday     17379 non-null  int64  \n",
            " 7   workingday  17379 non-null  int64  \n",
            " 8   weathersit  17379 non-null  int64  \n",
            " 9   temp        17379 non-null  float64\n",
            " 10  atemp       17379 non-null  float64\n",
            " 11  hum         17379 non-null  float64\n",
            " 12  windspeed   17379 non-null  float64\n",
            " 13  casual      17379 non-null  int64  \n",
            " 14  registered  17379 non-null  int64  \n",
            " 15  cnt         17379 non-null  int64  \n",
            "dtypes: float64(4), int64(11), object(1)\n",
            "memory usage: 2.1+ MB\n",
            "None\n",
            "\n",
            "🔍 Cek duplikasi baris:\n",
            "0 duplikasi ditemukan.\n"
          ]
        }
      ],
      "source": [
        "import pandas as pd\n",
        "\n",
        "# Load dataset hasil ekspor\n",
        "df = pd.read_csv(\"dashboard/main_data.csv\")\n",
        "\n",
        "# Tampilkan 5 baris pertama\n",
        "print(\"🔍 5 Baris Pertama dari main_data.csv\")\n",
        "print(df.head())\n",
        "\n",
        "# Cek informasi dataset (kolom, tipe data, jumlah non-null, dll.)\n",
        "print(\"\\n🔍 Informasi Dataset:\")\n",
        "print(df.info())\n",
        "\n",
        "# Cek apakah ada duplikasi kolom atau data\n",
        "print(\"\\n🔍 Cek duplikasi baris:\")\n",
        "print(df.duplicated().sum(), \"duplikasi ditemukan.\")\n"
      ]
    },
    {
      "cell_type": "markdown",
      "metadata": {},
      "source": [
        "**Insight:**\n",
        "Dataset main_data.csv terdiri dari 17.379 entri dengan 16 kolom, tanpa adanya duplikasi baris. Semua kolom memiliki jumlah nilai non-null yang lengkap, sehingga dataset siap untuk diproses dalam pembuatan dashboard. "
      ]
    },
    {
      "cell_type": "markdown",
      "metadata": {},
      "source": [
        "## Perbaikan Setelah Merging & Export"
      ]
    },
    {
      "cell_type": "code",
      "execution_count": 129,
      "metadata": {},
      "outputs": [
        {
          "name": "stdout",
          "output_type": "stream",
          "text": [
            "✅ Informasi Dataset Setelah Perbaikan:\n",
            "<class 'pandas.core.frame.DataFrame'>\n",
            "RangeIndex: 17379 entries, 0 to 17378\n",
            "Data columns (total 16 columns):\n",
            " #   Column      Non-Null Count  Dtype         \n",
            "---  ------      --------------  -----         \n",
            " 0   dteday      17379 non-null  datetime64[ns]\n",
            " 1   season      17379 non-null  category      \n",
            " 2   yr          17379 non-null  category      \n",
            " 3   mnth        17379 non-null  category      \n",
            " 4   hr          17379 non-null  int64         \n",
            " 5   holiday     17379 non-null  category      \n",
            " 6   weekday     17379 non-null  category      \n",
            " 7   workingday  17379 non-null  category      \n",
            " 8   weathersit  17379 non-null  category      \n",
            " 9   temp        17379 non-null  float64       \n",
            " 10  atemp       17379 non-null  float64       \n",
            " 11  hum         17379 non-null  float64       \n",
            " 12  windspeed   17379 non-null  float64       \n",
            " 13  casual      17379 non-null  int64         \n",
            " 14  registered  17379 non-null  int64         \n",
            " 15  cnt         17379 non-null  int64         \n",
            "dtypes: category(7), datetime64[ns](1), float64(4), int64(4)\n",
            "memory usage: 1.3 MB\n",
            "None\n",
            "✅ Kolom `dteday` dikonversi ke datetime dan `season` ke kategori. File berhasil diperbarui!\n"
          ]
        }
      ],
      "source": [
        "import pandas as pd\n",
        "\n",
        "# Load dataset hasil ekspor\n",
        "df = pd.read_csv(\"dashboard/main_data.csv\")\n",
        "\n",
        "# 🔹 Konversi kolom `dteday` ke datetime\n",
        "df[\"dteday\"] = pd.to_datetime(df[\"dteday\"])\n",
        "\n",
        "# 🔹 Konversi kolom `season` menjadi kategori\n",
        "df[\"season\"] = df[\"season\"].astype(\"category\")\n",
        "\n",
        "# 🔹 (Opsional) Konversi kategori lain untuk optimasi penyimpanan\n",
        "categorical_columns = [\"yr\", \"mnth\", \"holiday\", \"weekday\", \"workingday\", \"weathersit\"]\n",
        "for col in categorical_columns:\n",
        "    df[col] = df[col].astype(\"category\")\n",
        "\n",
        "# Tampilkan info dataset setelah perbaikan\n",
        "print(\"✅ Informasi Dataset Setelah Perbaikan:\")\n",
        "print(df.info())\n",
        "\n",
        "# Simpan kembali file yang sudah diperbaiki\n",
        "df.to_csv(\"dashboard/main_data.csv\", index=False)\n",
        "\n",
        "print(\"✅ Kolom `dteday` dikonversi ke datetime dan `season` ke kategori. File berhasil diperbarui!\")\n"
      ]
    }
  ],
  "metadata": {
    "colab": {
      "provenance": []
    },
    "kernelspec": {
      "display_name": "main-ds",
      "language": "python",
      "name": "python3"
    },
    "language_info": {
      "codemirror_mode": {
        "name": "ipython",
        "version": 3
      },
      "file_extension": ".py",
      "mimetype": "text/x-python",
      "name": "python",
      "nbconvert_exporter": "python",
      "pygments_lexer": "ipython3",
      "version": "3.9.21"
    },
    "orig_nbformat": 4
  },
  "nbformat": 4,
  "nbformat_minor": 0
}
